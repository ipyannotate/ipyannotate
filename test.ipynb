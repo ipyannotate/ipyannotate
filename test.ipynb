{
 "cells": [
  {
   "cell_type": "code",
   "execution_count": 2,
   "metadata": {},
   "outputs": [],
   "source": [
    "from ipyannotate import annotate\n",
    "from ipyannotate.buttons import (\n",
    "    ValueButton as Button,\n",
    "    OkButton as Ok,\n",
    "    ErrorButton as Error,\n",
    "    NextButton as Next,\n",
    "    BackButton as Back\n",
    ")\n",
    "from ipyannotate.canvas import OutputCanvas\n",
    "from ipyannotate.tasks import Tasks, Task, MultiTask\n",
    "from ipyannotate.toolbar import Toolbar, MultiToolbar"
   ]
  },
  {
   "cell_type": "code",
   "execution_count": 3,
   "metadata": {},
   "outputs": [
    {
     "data": {
      "text/plain": [
       "'0 % 2 == 0'"
      ]
     },
     "metadata": {},
     "output_type": "display_data"
    },
    {
     "data": {
      "application/vnd.jupyter.widget-view+json": {
       "model_id": "a4f455c694ef48688b8735f0f2d45e87",
       "version_major": 2,
       "version_minor": 0
      },
      "text/plain": [
       "Annotation(canvas=OutputCanvas(), progress=Progress(atoms=[<ipyannotate.progress.Atom object at 0x7ff2f85c1d90…"
      ]
     },
     "execution_count": 3,
     "metadata": {},
     "output_type": "execute_result"
    }
   ],
   "source": [
    "annotation = annotate('{} % 2 == 0'.format(_) for _ in range(5))\n",
    "annotation"
   ]
  },
  {
   "cell_type": "markdown",
   "metadata": {},
   "source": [
    "# change buttons"
   ]
  },
  {
   "cell_type": "code",
   "execution_count": 19,
   "metadata": {},
   "outputs": [],
   "source": [
    "ok = Ok()\n",
    "next = Next()\n",
    "back = Back()\n",
    "annotation.toolbar.buttons = [ok, next, back]"
   ]
  },
  {
   "cell_type": "code",
   "execution_count": 20,
   "metadata": {},
   "outputs": [],
   "source": [
    "ok.click()\n",
    "next.click()\n",
    "ok.click()\n",
    "back.click()\n",
    "ok.click()"
   ]
  },
  {
   "cell_type": "code",
   "execution_count": 21,
   "metadata": {},
   "outputs": [
    {
     "data": {
      "text/plain": [
       "[None, None]"
      ]
     },
     "execution_count": 21,
     "metadata": {},
     "output_type": "execute_result"
    }
   ],
   "source": [
    "values = [_.value for _ in annotation.tasks[:2]]\n",
    "# assert values == [True, None], values\n",
    "values"
   ]
  },
  {
   "cell_type": "code",
   "execution_count": 22,
   "metadata": {},
   "outputs": [],
   "source": [
    "annotation.toolbar.buttons = [ok, next]"
   ]
  },
  {
   "cell_type": "code",
   "execution_count": 23,
   "metadata": {},
   "outputs": [],
   "source": [
    "err = Error()\n",
    "try:\n",
    "    annotation.toolbar.buttons = [err, next, back]\n",
    "except RuntimeError:\n",
    "    pass\n",
    "else:\n",
    "    raise"
   ]
  },
  {
   "cell_type": "code",
   "execution_count": 24,
   "metadata": {},
   "outputs": [],
   "source": [
    "try:\n",
    "    annotation.toolbar.buttons = [ok, ok, next, back]\n",
    "except ValueError:\n",
    "    pass\n",
    "else:\n",
    "    raise"
   ]
  },
  {
   "cell_type": "markdown",
   "metadata": {},
   "source": [
    "# change tasks"
   ]
  },
  {
   "cell_type": "code",
   "execution_count": 25,
   "metadata": {},
   "outputs": [],
   "source": [
    "tasks = Tasks(Task(_) for _ in range(4))\n",
    "annotation.tasks = tasks"
   ]
  },
  {
   "cell_type": "code",
   "execution_count": 26,
   "metadata": {},
   "outputs": [],
   "source": [
    "ok.click()\n",
    "next.click()\n",
    "next.click()\n",
    "ok.click()"
   ]
  },
  {
   "cell_type": "code",
   "execution_count": 27,
   "metadata": {},
   "outputs": [
    {
     "data": {
      "text/plain": [
       "[None, None, None, None]"
      ]
     },
     "execution_count": 27,
     "metadata": {},
     "output_type": "execute_result"
    }
   ],
   "source": [
    "values = [_.value for _ in annotation.tasks]\n",
    "# assert values == [True, None, None, True], values\n",
    "values"
   ]
  },
  {
   "cell_type": "markdown",
   "metadata": {},
   "source": [
    "# convert multi"
   ]
  },
  {
   "cell_type": "code",
   "execution_count": 28,
   "metadata": {},
   "outputs": [],
   "source": [
    "buttons = [\n",
    "    Button(value='%2', label='%2', shortcut='1'),\n",
    "    Button(value='%3', label='%3', shortcut='2'),\n",
    "    Button(value='%5', label='%5', shortcut='3')\n",
    "]\n",
    "next = Next()\n",
    "back = Back()\n",
    "controls = [back, next]\n",
    "annotation.tasks = Tasks(MultiTask(_) for _ in range(4))\n",
    "annotation.toolbar = MultiToolbar(buttons + controls)"
   ]
  },
  {
   "cell_type": "code",
   "execution_count": 29,
   "metadata": {},
   "outputs": [],
   "source": [
    "for _ in range(4):\n",
    "    [_.click() for _ in buttons]\n",
    "    next.click()"
   ]
  },
  {
   "cell_type": "code",
   "execution_count": 30,
   "metadata": {},
   "outputs": [
    {
     "data": {
      "text/plain": [
       "[set(), set(), set(), set()]"
      ]
     },
     "execution_count": 30,
     "metadata": {},
     "output_type": "execute_result"
    }
   ],
   "source": [
    "values = [_.value for _ in annotation.tasks]\n",
    "item = {'%5', '%2', '%3'}\n",
    "# assert values == [item] * 4, values\n",
    "values"
   ]
  },
  {
   "cell_type": "code",
   "execution_count": null,
   "metadata": {},
   "outputs": [],
   "source": []
  },
  {
   "cell_type": "code",
   "execution_count": null,
   "metadata": {},
   "outputs": [],
   "source": []
  }
 ],
 "metadata": {
  "kernelspec": {
   "display_name": "Python 3",
   "language": "python",
   "name": "python3"
  },
  "language_info": {
   "codemirror_mode": {
    "name": "ipython",
    "version": 3
   },
   "file_extension": ".py",
   "mimetype": "text/x-python",
   "name": "python",
   "nbconvert_exporter": "python",
   "pygments_lexer": "ipython3",
   "version": "3.7.4"
  }
 },
 "nbformat": 4,
 "nbformat_minor": 4
}
